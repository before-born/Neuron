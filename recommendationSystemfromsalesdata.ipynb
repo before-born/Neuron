{
  "nbformat": 4,
  "nbformat_minor": 0,
  "metadata": {
    "colab": {
      "provenance": [],
      "authorship_tag": "ABX9TyN9R3hz9iESr5qf6ZtJ8POJ",
      "include_colab_link": true
    },
    "kernelspec": {
      "name": "python3",
      "display_name": "Python 3"
    },
    "language_info": {
      "name": "python"
    }
  },
  "cells": [
    {
      "cell_type": "markdown",
      "metadata": {
        "id": "view-in-github",
        "colab_type": "text"
      },
      "source": [
        "<a href=\"https://colab.research.google.com/github/before-born/Neuron/blob/main/recommendationSystemfromsalesdata.ipynb\" target=\"_parent\"><img src=\"https://colab.research.google.com/assets/colab-badge.svg\" alt=\"Open In Colab\"/></a>"
      ]
    },
    {
      "cell_type": "code",
      "execution_count": null,
      "metadata": {
        "id": "IZlIHGAGYdQ4"
      },
      "outputs": [],
      "source": [
        "import numpy as np\n",
        "import pandas as pd\n",
        "from tensorflow.keras.models import Sequential\n",
        "from tensorflow.keras.layers import Dense, Embedding, Flatten\n",
        "from tensorflow.keras.optimizers import Adam\n",
        "from sklearn.model_selection import train_test_split\n",
        "from sklearn.preprocessing import LabelEncoder\n",
        "\n",
        "# Example dataset\n",
        "data = {\n",
        "    'user_id': [1, 1, 2, 2, 3, 3, 4, 4],\n",
        "    'item_id': [1, 2, 1, 3, 2, 3, 1, 2],\n",
        "    'rating': [5, 3, 4, 2, 5, 1, 2, 3]\n",
        "}\n",
        "\n",
        "df = pd.DataFrame(data)\n",
        "\n",
        "# Encode user and item IDs\n",
        "user_encoder = LabelEncoder()\n",
        "item_encoder = LabelEncoder()\n",
        "\n",
        "df['user_id_encoded'] = user_encoder.fit_transform(df['user_id'])\n",
        "df['item_id_encoded'] = item_encoder.fit_transform(df['item_id'])\n",
        "\n",
        "# Define model parameters\n",
        "n_users = len(user_encoder.classes_)\n",
        "n_items = len(item_encoder.classes_)\n",
        "embedding_dim = 10\n",
        "\n",
        "# Build the recommendation model\n",
        "model = Sequential([\n",
        "    Embedding(input_dim=n_users, output_dim=embedding_dim, input_length=1, name='user_embedding'),\n",
        "    Flatten(),\n",
        "    Dense(embedding_dim, activation='relu'),\n",
        "    Dense(n_items, activation='sigmoid')  # Use sigmoid for rating prediction\n",
        "])\n",
        "\n",
        "model.compile(optimizer=Adam(), loss='binary_crossentropy')  # Use 'binary_crossentropy' for simplicity\n",
        "\n",
        "# Prepare input features and target\n",
        "X = df[['user_id_encoded', 'item_id_encoded']].values\n",
        "y = df['rating'].values\n",
        "\n",
        "# Train/test split\n",
        "X_train, X_test, y_train, y_test = train_test_split(X, y, test_size=0.2, random_state=42)\n",
        "\n",
        "# Train the model\n",
        "model.fit([X_train[:, 0], X_train[:, 1]], y_train, epochs=10, batch_size=2, validation_split=0.2)\n",
        "\n",
        "# Evaluate the model\n",
        "loss = model.evaluate([X_test[:, 0], X_test[:, 1]], y_test)\n",
        "print(f\"Test loss: {loss:.4f}\")\n"
      ]
    }
  ]
}