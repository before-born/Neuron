{
  "nbformat": 4,
  "nbformat_minor": 0,
  "metadata": {
    "colab": {
      "provenance": [],
      "authorship_tag": "ABX9TyM9YcpaonV4dehLtBp26Ovm",
      "include_colab_link": true
    },
    "kernelspec": {
      "name": "python3",
      "display_name": "Python 3"
    },
    "language_info": {
      "name": "python"
    }
  },
  "cells": [
    {
      "cell_type": "markdown",
      "metadata": {
        "id": "view-in-github",
        "colab_type": "text"
      },
      "source": [
        "<a href=\"https://colab.research.google.com/github/before-born/Neuron/blob/main/perceptronTensorflowOrKeras.ipynb\" target=\"_parent\"><img src=\"https://colab.research.google.com/assets/colab-badge.svg\" alt=\"Open In Colab\"/></a>"
      ]
    },
    {
      "cell_type": "code",
      "execution_count": null,
      "metadata": {
        "id": "Yz5edBeAOX5w"
      },
      "outputs": [],
      "source": [
        "import tensorflow as tf\n",
        "from tensorflow.keras.models import Sequential\n",
        "from tensorflow.keras.layers import Dense\n",
        "import numpy as np\n",
        "\n",
        "# Generate some example data\n",
        "np.random.seed(0)\n",
        "x_train = np.random.rand(100, 2)  # 100 points with 2 features\n",
        "y_train = (x_train[:, 0] + x_train[:, 1] > 1).astype(int)  # Label 1 if the sum of the features > 1, else 0\n",
        "\n",
        "# Define the model\n",
        "model = Sequential([\n",
        "    Dense(1, input_dim=2, activation='sigmoid')  # Single perceptron unit\n",
        "])\n",
        "\n",
        "# Compile the model\n",
        "model.compile(optimizer='adam', loss='binary_crossentropy', metrics=['accuracy'])\n",
        "\n",
        "# Train the model\n",
        "model.fit(x_train, y_train, epochs=100, batch_size=10)\n",
        "\n",
        "# Make some predictions\n",
        "x_test = np.array([[0.1, 0.9], [0.8, 0.2]])\n",
        "predictions = model.predict(x_test)\n",
        "\n",
        "# Print predictions\n",
        "print(\"Predictions:\", predictions)\n"
      ]
    }
  ]
}