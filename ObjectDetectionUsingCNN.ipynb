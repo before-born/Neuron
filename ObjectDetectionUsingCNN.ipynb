{
  "nbformat": 4,
  "nbformat_minor": 0,
  "metadata": {
    "colab": {
      "provenance": [],
      "authorship_tag": "ABX9TyP23T0+dhl4EBE1YEUCYoqg",
      "include_colab_link": true
    },
    "kernelspec": {
      "name": "python3",
      "display_name": "Python 3"
    },
    "language_info": {
      "name": "python"
    }
  },
  "cells": [
    {
      "cell_type": "markdown",
      "metadata": {
        "id": "view-in-github",
        "colab_type": "text"
      },
      "source": [
        "<a href=\"https://colab.research.google.com/github/before-born/Neuron/blob/main/ObjectDetectionUsingCNN.ipynb\" target=\"_parent\"><img src=\"https://colab.research.google.com/assets/colab-badge.svg\" alt=\"Open In Colab\"/></a>"
      ]
    },
    {
      "cell_type": "code",
      "execution_count": null,
      "metadata": {
        "id": "nKNtZdwZZGU-"
      },
      "outputs": [],
      "source": [
        "import tensorflow as tf\n",
        "import tensorflow_hub as hub\n",
        "import numpy as np\n",
        "import matplotlib.pyplot as plt\n",
        "import matplotlib.patches as patches\n",
        "from PIL import Image\n",
        "\n",
        "# Load the pre-trained object detection model from TensorFlow Hub\n",
        "model_url = \"https://tfhub.dev/google/faster_rcnn/openimages_v4/inception_resnet_v2/1\"\n",
        "detector = hub.load(model_url).signatures['default']\n",
        "\n",
        "# Load and preprocess the image\n",
        "def load_image(image_path):\n",
        "    img = Image.open(image_path)\n",
        "    img = img.convert('RGB')  # Ensure image is in RGB format\n",
        "    img_np = np.array(img)\n",
        "    return img_np\n",
        "\n",
        "def preprocess_image(image_np):\n",
        "    image_tensor = tf.convert_to_tensor(image_np, dtype=tf.float32)\n",
        "    image_tensor = tf.image.convert_image_dtype(image_tensor, dtype=tf.uint8)\n",
        "    image_tensor = tf.expand_dims(image_tensor, 0)  # Add batch dimension\n",
        "    return image_tensor\n",
        "\n",
        "# Perform object detection on the input image\n",
        "def detect_objects(image_tensor):\n",
        "    result = detector(image_tensor)\n",
        "    return result\n",
        "\n",
        "def draw_boxes(image_np, boxes, class_ids, scores):\n",
        "    fig, ax = plt.subplots(1, figsize=(12, 9))\n",
        "    ax.imshow(image_np)\n",
        "\n",
        "    for i in range(len(boxes)):\n",
        "        box = boxes[i]\n",
        "        class_id = class_ids[i]\n",
        "        score = scores[i]\n",
        "\n",
        "        # Draw bounding box\n",
        "        ymin, xmin, ymax, xmax = box\n",
        "        rect = patches.Rectangle((xmin * image_np.shape[1], ymin * image_np.shape[0]),\n",
        "                                 (xmax - xmin) * image_np.shape[1],\n",
        "                                 (ymax - ymin) * image_np.shape[0],\n",
        "                                 linewidth=2, edgecolor='r', facecolor='none')\n",
        "        ax.add_patch(rect)\n",
        "        plt.text(xmin * image_np.shape[1], ymin * image_np.shape[0],\n",
        "                 f'{class_id} ({score:.2f})', color='red', fontsize=12, bbox=dict(facecolor='yellow', alpha=0.5))\n",
        "\n",
        "    plt.show()\n",
        "\n",
        "# Example usage\n",
        "image_path = 'path_to_your_image.jpg'  # Replace with the path to your image\n",
        "image_np = load_image(image_path)\n",
        "image_tensor = preprocess_image(image_np)\n",
        "result = detect_objects(image_tensor)\n",
        "\n",
        "# Extract and draw results\n",
        "boxes = result['detection_boxes'].numpy()[0]\n",
        "class_ids = result['detection_classes'].numpy()[0]\n",
        "scores = result['detection_scores'].numpy()[0]\n",
        "\n",
        "draw_boxes(image_np, boxes, class_ids, scores)\n"
      ]
    }
  ]
}