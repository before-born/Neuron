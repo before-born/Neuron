{
  "nbformat": 4,
  "nbformat_minor": 0,
  "metadata": {
    "colab": {
      "provenance": [],
      "authorship_tag": "ABX9TyOWMiSLTyC+dDDhJToLWnpm",
      "include_colab_link": true
    },
    "kernelspec": {
      "name": "python3",
      "display_name": "Python 3"
    },
    "language_info": {
      "name": "python"
    }
  },
  "cells": [
    {
      "cell_type": "markdown",
      "metadata": {
        "id": "view-in-github",
        "colab_type": "text"
      },
      "source": [
        "<a href=\"https://colab.research.google.com/github/before-born/Neuron/blob/main/regressionModel2.ipynb\" target=\"_parent\"><img src=\"https://colab.research.google.com/assets/colab-badge.svg\" alt=\"Open In Colab\"/></a>"
      ]
    },
    {
      "cell_type": "code",
      "execution_count": null,
      "metadata": {
        "id": "zOmBa8fNL0Ou"
      },
      "outputs": [],
      "source": [
        "import tensorflow as tf\n",
        "from tensorflow.keras.models import Sequential\n",
        "from tensorflow.keras.layers import Dense\n",
        "import numpy as np\n",
        "\n",
        "# Generate some example data\n",
        "np.random.seed(0)\n",
        "x_train = np.random.rand(100, 1)\n",
        "y_train = 2 * x_train + 1 + 0.1 * np.random.randn(100, 1)\n",
        "\n",
        "# Define the model\n",
        "model = Sequential([\n",
        "    Dense(1, input_dim=1)\n",
        "])\n",
        "\n",
        "# Compile the model\n",
        "model.compile(optimizer='adam', loss='mse')\n",
        "\n",
        "# Train the model\n",
        "model.fit(x_train, y_train, epochs=100, batch_size=10)\n",
        "\n",
        "# Make some predictions\n",
        "x_test = np.array([[0.5], [1.5]])\n",
        "predictions = model.predict(x_test)\n",
        "\n",
        "# Print predictions\n",
        "print(\"Predictions:\", predictions)\n"
      ]
    }
  ]
}