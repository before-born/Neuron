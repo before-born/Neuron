{
  "nbformat": 4,
  "nbformat_minor": 0,
  "metadata": {
    "colab": {
      "provenance": [],
      "authorship_tag": "ABX9TyPnWOtMMZop2cPBztdlhHjG",
      "include_colab_link": true
    },
    "kernelspec": {
      "name": "python3",
      "display_name": "Python 3"
    },
    "language_info": {
      "name": "python"
    }
  },
  "cells": [
    {
      "cell_type": "markdown",
      "metadata": {
        "id": "view-in-github",
        "colab_type": "text"
      },
      "source": [
        "<a href=\"https://colab.research.google.com/github/before-born/Neuron/blob/main/classifyImageusingpretrainedModel.ipynb\" target=\"_parent\"><img src=\"https://colab.research.google.com/assets/colab-badge.svg\" alt=\"Open In Colab\"/></a>"
      ]
    },
    {
      "cell_type": "code",
      "execution_count": null,
      "metadata": {
        "id": "lGJMPe4GWBHQ"
      },
      "outputs": [],
      "source": [
        "import tensorflow as tf\n",
        "from tensorflow.keras.applications import VGG16\n",
        "from tensorflow.keras.preprocessing import image\n",
        "from tensorflow.keras.applications.vgg16 import preprocess_input, decode_predictions\n",
        "import numpy as np\n",
        "\n",
        "# Define the path to your image\n",
        "img_path = 'path_to_your_image.jpg'  # Replace with the path to your image\n",
        "\n",
        "# Load and preprocess the image\n",
        "img = image.load_img(img_path, target_size=(224, 224))  # VGG16 expects 224x224 images\n",
        "img_array = image.img_to_array(img)\n",
        "img_array = np.expand_dims(img_array, axis=0)\n",
        "img_array = preprocess_input(img_array)\n",
        "\n",
        "# Load the VGG16 model pre-trained on ImageNet\n",
        "model = VGG16(weights='imagenet')\n",
        "\n",
        "# Predict the class of the image\n",
        "predictions = model.predict(img_array)\n",
        "\n",
        "# Decode the predictions\n",
        "decoded_predictions = decode_predictions(predictions, top=3)[0]  # Get top 3 predictions\n",
        "\n",
        "# Print the results\n",
        "for i, (class_id, class_name, score) in enumerate(decoded_predictions):\n",
        "    print(f\"{i + 1}: {class_name} ({score:.2f})\")\n"
      ]
    }
  ]
}