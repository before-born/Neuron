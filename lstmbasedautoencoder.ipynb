{
  "nbformat": 4,
  "nbformat_minor": 0,
  "metadata": {
    "colab": {
      "provenance": [],
      "authorship_tag": "ABX9TyPMWvo+0V/RgKPyctS1uyy4",
      "include_colab_link": true
    },
    "kernelspec": {
      "name": "python3",
      "display_name": "Python 3"
    },
    "language_info": {
      "name": "python"
    }
  },
  "cells": [
    {
      "cell_type": "markdown",
      "metadata": {
        "id": "view-in-github",
        "colab_type": "text"
      },
      "source": [
        "<a href=\"https://colab.research.google.com/github/before-born/Neuron/blob/main/lstmbasedautoencoder.ipynb\" target=\"_parent\"><img src=\"https://colab.research.google.com/assets/colab-badge.svg\" alt=\"Open In Colab\"/></a>"
      ]
    },
    {
      "cell_type": "code",
      "execution_count": null,
      "metadata": {
        "id": "qiYoZw8kURHi"
      },
      "outputs": [],
      "source": [
        "import tensorflow as tf\n",
        "from tensorflow.keras.models import Model\n",
        "from tensorflow.keras.layers import Input, LSTM, RepeatVector, Dense\n",
        "from tensorflow.keras.datasets import imdb\n",
        "from tensorflow.keras.preprocessing.sequence import pad_sequences\n",
        "\n",
        "# Load the IMDB dataset\n",
        "max_features = 10000  # Limit the number of words in the vocabulary\n",
        "max_len = 100  # Maximum length of the input sequences\n",
        "\n",
        "(x_train, _), (x_test, _) = imdb.load_data(num_words=max_features)\n",
        "\n",
        "# Pad sequences to ensure uniform input size\n",
        "x_train = pad_sequences(x_train, maxlen=max_len)\n",
        "x_test = pad_sequences(x_test, maxlen=max_len)\n",
        "\n",
        "# Define the LSTM Autoencoder model\n",
        "timesteps = max_len\n",
        "input_dim = max_features\n",
        "\n",
        "# Encoder\n",
        "encoder_inputs = Input(shape=(timesteps, input_dim))\n",
        "encoded = LSTM(64, activation='relu', return_sequences=False)(encoder_inputs)\n",
        "latent_dim = 32\n",
        "encoded_latent = Dense(latent_dim, activation='relu')(encoded)\n",
        "\n",
        "# Latent Space Representation\n",
        "latent_inputs = Input(shape=(latent_dim,))\n",
        "decoded_latent = Dense(64, activation='relu')(latent_inputs)\n",
        "decoded = RepeatVector(timesteps)(decoded_latent)\n",
        "decoded = LSTM(input_dim, activation='sigmoid', return_sequences=True)(decoded)\n",
        "\n",
        "# Define the full Autoencoder model\n",
        "autoencoder = Model(encoder_inputs, decoded)\n",
        "\n",
        "# Define the Encoder model\n",
        "encoder_model = Model(encoder_inputs, encoded_latent)\n",
        "\n",
        "# Define the Decoder model\n",
        "decoder_inputs = Input(shape=(latent_dim,))\n",
        "decoder_outputs = autoencoder.layers[-2](decoder_inputs)\n",
        "decoder_outputs = autoencoder.layers[-1](decoder_outputs)\n",
        "decoder_model = Model(decoder_inputs, decoder_outputs)\n",
        "\n",
        "# Compile the Autoencoder model\n",
        "autoencoder.compile(optimizer='adam', loss='binary_crossentropy')\n",
        "\n",
        "# Train the model\n",
        "autoencoder.fit(x_train, x_train, epochs=10, batch_size=64, validation_split=0.2)\n",
        "\n",
        "# Evaluate the model\n",
        "loss = autoencoder.evaluate(x_test, x_test)\n",
        "print(f\"Test loss: {loss:.4f}\")\n"
      ]
    },
    {
      "cell_type": "code",
      "source": [],
      "metadata": {
        "id": "JQN1zN1NV5An"
      },
      "execution_count": null,
      "outputs": []
    }
  ]
}